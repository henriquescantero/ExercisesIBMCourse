{
 "cells": [
  {
   "cell_type": "markdown",
   "metadata": {
    "collapsed": true
   },
   "source": [
    "# My Jupyter Notebook on IBM Watson Studio"
   ]
  },
  {
   "cell_type": "markdown",
   "metadata": {},
   "source": [
    "**Henrique Spegiorin Cantero** <br>\n",
    "Desired occupation: Data scientist, preferentially working with machine learning"
   ]
  },
  {
   "cell_type": "markdown",
   "metadata": {},
   "source": [
    "*I am interested in Data Science because I like mathematics and programming, and I'm also fascinated by the possibility to extract helpful information from something that seemed to be useless, before you treated it the right way.*"
   ]
  },
  {
   "cell_type": "markdown",
   "metadata": {},
   "source": [
    "### The code will raise the base 2 to the fifth power, showing us the result. "
   ]
  },
  {
   "cell_type": "code",
   "execution_count": 2,
   "metadata": {},
   "outputs": [
    {
     "data": {
      "text/plain": [
       "32"
      ]
     },
     "execution_count": 2,
     "metadata": {},
     "output_type": "execute_result"
    }
   ],
   "source": [
    "2 ** 5"
   ]
  },
  {
   "cell_type": "markdown",
   "metadata": {},
   "source": [
    "|  Name  |  Age  |  Sex  |\n",
    "| :------: | :-----: | :-----: |\n",
    "| Ariel  | 23    | M     |\n",
    "| July   | 15    | F     |\n",
    "| Otto   | 31    | M     |\n",
    "\n",
    "<br> <br>\n",
    "*Example of aka italic.* <br>\n",
    "**Example of aka bold.** <br>\n",
    "~~Example of strikethrough.~~ <br>\n",
    "<br> <br>\n",
    "- Example\n",
    "- of\n",
    "- a\n",
    "- bulleted\n",
    "- list.\n",
    "<br> <br>\n",
    "1. Testing\n",
    "  1. ordered\n",
    "  2. sub\n",
    "  3. lists\n",
    "2. inside\n",
    "3. a\n",
    "4. numbered\n",
    "5. list.\n",
    "<br><br>\n",
    "\n",
    "Different ways\n",
    "\n",
    "***\n",
    "to use\n",
    "\n",
    "---\n",
    "\n",
    "horizontal rules.\n",
    "\n",
    "___\n",
    "\n",
    "<br><br>\n",
    "\n",
    "> Using blockquotes.\n",
    "> Let's try it.\n",
    "\n",
    "<br>\n",
    "\n",
    "> A poesia, ou texto lírico, é uma das sete artes tradicionais, pela qual a linguagem humana é utilizada com fins estéticos ou críticos, ou seja, ela retrata algo em que tudo pode acontecer dependendo da imaginação do autor como a do leitor. \n",
    "\n",
    "<br><br>\n",
    "\n",
    "[Link para o logo da IBM](https://www.ibm.com/design/language/a41bb6fc86bf12f915d28f4c34f33d74/8bar.svg \"IBM Logo\")\n",
    "\n",
    "<br><br>\n",
    "![alt text][logo]\n",
    "\n",
    "[logo]: https://www.ibm.com/design/language/a41bb6fc86bf12f915d28f4c34f33d74/8bar.svg \"Logo IBM\"\n",
    "\n",
    "![alt text](https://www.ibm.com/design/language/a41bb6fc86bf12f915d28f4c34f33d74/8bar.svg \"Logo IBM 2\")"
   ]
  }
 ],
 "metadata": {
  "kernelspec": {
   "display_name": "Python 3.9",
   "language": "python",
   "name": "python3"
  },
  "language_info": {
   "codemirror_mode": {
    "name": "ipython",
    "version": 3
   },
   "file_extension": ".py",
   "mimetype": "text/x-python",
   "name": "python",
   "nbconvert_exporter": "python",
   "pygments_lexer": "ipython3",
   "version": "3.9.12"
  }
 },
 "nbformat": 4,
 "nbformat_minor": 1
}
